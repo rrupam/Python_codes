{
 "cells": [
  {
   "cell_type": "code",
   "execution_count": 15,
   "metadata": {
    "collapsed": false
   },
   "outputs": [],
   "source": [
    "import urllib2\n",
    "from urlparse import urlparse"
   ]
  },
  {
   "cell_type": "code",
   "execution_count": 16,
   "metadata": {
    "collapsed": false
   },
   "outputs": [],
   "source": [
    "from six.moves import urllib\n",
    "# ...\n"
   ]
  },
  {
   "cell_type": "code",
   "execution_count": 18,
   "metadata": {
    "collapsed": false
   },
   "outputs": [
    {
     "ename": "ImportError",
     "evalue": "No module named request",
     "output_type": "error",
     "traceback": [
      "\u001b[1;31m---------------------------------------------------------------------------\u001b[0m",
      "\u001b[1;31mImportError\u001b[0m                               Traceback (most recent call last)",
      "\u001b[1;32m<ipython-input-18-59f10d296a86>\u001b[0m in \u001b[0;36m<module>\u001b[1;34m()\u001b[0m\n\u001b[1;32m----> 1\u001b[1;33m \u001b[1;32mimport\u001b[0m \u001b[0murllib\u001b[0m\u001b[1;33m.\u001b[0m\u001b[0mrequest\u001b[0m\u001b[1;33m,\u001b[0m \u001b[0murllib\u001b[0m\u001b[1;33m.\u001b[0m\u001b[0mparse\u001b[0m\u001b[1;33m,\u001b[0m \u001b[0murllib\u001b[0m\u001b[1;33m.\u001b[0m\u001b[0merror\u001b[0m\u001b[1;33m\u001b[0m\u001b[0m\n\u001b[0m",
      "\u001b[1;31mImportError\u001b[0m: No module named request"
     ]
    }
   ],
   "source": [
    "import urllib.request, urllib.parse, urllib.error"
   ]
  },
  {
   "cell_type": "code",
   "execution_count": 3,
   "metadata": {
    "collapsed": false
   },
   "outputs": [
    {
     "name": "stdout",
     "output_type": "stream",
     "text": [
      "{u'and': 3, u'envious': 1, u'already': 1, u'fair': 1, u'is': 3, u'through': 1, u'pale': 1, u'yonder': 1, u'what': 1, u'sun': 2, u'Who': 1, u'But': 1, u'moon': 1, u'window': 1, u'sick': 1, u'east': 1, u'breaks': 1, u'grief': 1, u'with': 1, u'light': 1, u'It': 1, u'Arise': 1, u'kill': 1, u'the': 3, u'soft': 1, u'Juliet': 1}\n"
     ]
    }
   ],
   "source": [
    "fhand = urllib.request.urlopen('http://data.pr4e.org/romeo.txt')\n",
    "counts=dict()\n",
    "for line in fhand:\n",
    "    words=line.decode().split()\n",
    "    for word in words:\n",
    "        counts[word]=counts.get(word,0) + 1\n",
    "print(counts)        \n",
    "        \n",
    "   "
   ]
  },
  {
   "cell_type": "code",
   "execution_count": 4,
   "metadata": {
    "collapsed": false
   },
   "outputs": [
    {
     "name": "stdout",
     "output_type": "stream",
     "text": [
      "<h1>The Second Page</h1>\n",
      "<p>\n",
      "If you like, you can switch back to the\n",
      "<a href=\"page1.htm\">\n",
      "First Page</a>.\n",
      "</p>\n"
     ]
    }
   ],
   "source": [
    "fhand = urllib.request.urlopen('https://www.dr-chuck.com/page2.htm')\n",
    "for line in fhand:\n",
    "    print(line.decode().strip())"
   ]
  },
  {
   "cell_type": "code",
   "execution_count": 19,
   "metadata": {
    "collapsed": true
   },
   "outputs": [],
   "source": [
    "from bs4 import BeautifulSoup"
   ]
  },
  {
   "cell_type": "code",
   "execution_count": 20,
   "metadata": {
    "collapsed": false
   },
   "outputs": [
    {
     "name": "stdout",
     "output_type": "stream",
     "text": [
      "Enter your name:\n",
      " sdvdfsdf\n",
      "Hello, dfsdf\n"
     ]
    }
   ],
   "source": [
    "print('Enter your name:')\n",
    "x = raw_input(\" sdv\")\n",
    "print('Hello, ' + x)"
   ]
  },
  {
   "cell_type": "code",
   "execution_count": 21,
   "metadata": {
    "collapsed": false
   },
   "outputs": [
    {
     "name": "stdout",
     "output_type": "stream",
     "text": [
      "Enter URLhttp://www.dr-chuck.com/\n"
     ]
    }
   ],
   "source": [
    "url = raw_input('Enter URL')\n",
    "html = urllib.request.urlopen(url).read()\n",
    "soup = BeautifulSoup(html, 'html.parser')\n"
   ]
  },
  {
   "cell_type": "code",
   "execution_count": 22,
   "metadata": {
    "collapsed": false
   },
   "outputs": [
    {
     "name": "stdout",
     "output_type": "stream",
     "text": [
      "<html>\n",
      "<head>\n",
      "<title>Dr. Charles R. Severance Home Page</title>\n",
      "<meta content=\"WQuA2ZPREiCyTlgNh/fv0jvzKJxrpzlagjiPaakSNH0=\" name=\"verify-v1\"/>\n",
      "<style type=\"text/css\">\r\n",
      "body { background: black; font-family: Arial,Helvetica,Verdana,Sans-Serif; color: white;}\r\n",
      "body table { font-size: 11pt; }\r\n",
      "a:link, a:visited, a:active { color: gray; text-decoration: none; font-weight: bold}\r\n",
      "a:hover { color:orange }\r\n",
      "strong {color: orange; }\r\n",
      "em {color: yellow; font-style: normal;}\r\n",
      "\r\n",
      "#twitter_div {\r\n",
      "color: yellow;\r\n",
      "text-align: center;\r\n",
      "}\r\n",
      "#twitter_div ul {\r\n",
      "display: inline;\r\n",
      "fornt-size: 75%;\r\n",
      "margin:0px 0px 0px 0px;\r\n",
      "padding:0px 0px 0px 0px;\r\n",
      "list-style-type: none;\r\n",
      "}\r\n",
      "#twitter_div p {\r\n",
      "margin:0px 0px 0px 0px;\r\n",
      "text-align: center;\r\n",
      "}\r\n",
      "</style>\n",
      "<link href=\"https://www.dr-chuck.com/csev-blog/index.rdf\" rel=\"alternate\" title=\"RSS\" type=\"application/rss+xml\"/>\n",
      "<link href=\"https://www.dr-chuck.com/csev-blog/atom.xml\" rel=\"alternate\" title=\"Atom\" type=\"application/atom+xml\"/>\n",
      "<meta content=\"502d2c1a267d1206-8efe060c714e194c-g94a06c6c571083ae-11\" name=\"google-translate-customization\"/>\n",
      "</head>\n",
      "<body>\n",
      "<table border=\"0\">\n",
      "<tr>\n",
      "<td align=\"center\" valign=\"top\" width=\"180\">\n",
      "<a href=\"https://www.dr-chuck.com/csev-blog/\">\n",
      "<img align=\"center\" alt=\"Photo Credit: Ian Dolphin\" src=\"csev_ian_dolphin_small.jpg\" width=\"160\">\n",
      "</img></a>\n",
      "<br>\n",
      "<br> <a href=\"https://www.si.umich.edu/\" target=\"_blank\">School of Information</a>\n",
      "<br/>\n",
      "<a href=\"https://www.ratemyprofessors.com/ShowRatings.jsp?tid=1159280\" target=\"_blank\">\n",
      "<img alt=\"Rate This Professor\" src=\"/images/rate-my-professor.jpg\" width=\"140\"/></a>\n",
      "<br>  \r\n",
      "<br> <a href=\"https://www.dr-chuck.com/csev-blog/\">Blog</a>\n",
      "<br> <a href=\"https://www.twitter.com/drchuck/\" target=\"_blank\">@drchuck Twitter</a>\n",
      "<br> <a href=\"https://www.dr-chuck.com/dr-chuck/resume/speaking.htm\" target=\"_blank\">Keynote Speaker</a>\n",
      "<br/> <a href=\"https://www.slideshare.net/csev\" target=\"_blank\">Slideshare</a>\n",
      "<br> <a href=\"/dr-chuck/resume/index.htm\" target=\"_blank\">Resume and Bio</a>\n",
      "<br>\n",
      "<a href=\"https://amzn.to/1K5Q81K\" target=\"_blank\">Amazon Author Page</a>\n",
      "<br> <a href=\"http://afs.dr-chuck.com/papers/\" target=\"_blank\">Chuck's Papers</a>\n",
      "<br> <a href=\"https://itunes.apple.com/us/podcast/computing-conversations/id731495760\" target=\"_blank\">IEEE Audio Podcast</a>\n",
      "<br> <a href=\"https://www.youtube.com/playlist?list=PLHJB2bhmgB7dFuY7HmrXLj5BmHGKTD-3R\" target=\"_blank\">IEEE Video Interviews</a>\n",
      "<br> <a href=\"https://developers.imsglobal.org/\" target=\"_blank\">IMS LTI</a>\n",
      "<br> <a href=\"https://www.youtube.com/user/csev\" target=\"_blank\">YouTube Channel </a>\n",
      "<br> <a href=\"https://vimeo.com/drchuck/videos\" target=\"_blank\">Video on Vimeo</a>\n",
      "<br> <a href=\"https://backpack.openbadges.org/share/4f76699ddb399d162a00b89a452074b3/\" target=\"_blank\">My Open Badges</a>\n",
      "<br>\r\n",
      "  \r\n",
      "<br/>\n",
      "<a href=\"https://www.linkedin.com/in/charlesseverance/\" target=\"_blank\">\n",
      "<img alt=\"View Chuck Severance's profile on LinkedIn\" border=\"0\" height=\"33\" src=\"https://www.linkedin.com/img/webpromo/btn_viewmy_120x33.png\" width=\"120\">\n",
      "</img></a>\n",
      "<br/>\n",
      "<a href=\"https://www.researchgate.net/profile/Charles_Severance/\" target=\"_blank\" title=\"Charles R. Severance\"><img alt=\"Charles R. Severance\" src=\"https://www.researchgate.net/images/public/profile_share_badge.png\"/></a>\n",
      "</br></br></br></br></br></br></br></br></br></br></br></br></br></br></br></br></td>\n",
      "<td valign=\"top\">\n",
      "<div style=\"float: right\">\n",
      "<script data-gittip-username=\"drchuck\" data-gittip-widget=\"button\" src=\"//gttp.co/v1.js\"></script>\n",
      "</div>\n",
      "<strong>\r\n",
      "New:\r\n",
      "</strong>\n",
      "<a href=\"https://www.tsugicloud.org/\" target=\"_blank\">TsugiCloud - An Educational App Store</a> <br/>\n",
      "<strong>\r\n",
      "New:\r\n",
      "</strong>\n",
      "<a href=\"/office\" target=\"_blank\">MOOC Office Hours Around the World</a> <br/>\n",
      "<p>\r\n",
      "Free Courses / Educational Material:\r\n",
      "<br>  \r\n",
      "<a href=\"https://www.coursera.org/course/pythonlearn\" target=\"_blank\">Coursera: Programming for Everybody</a> (Python)\r\n",
      "<br>  \r\n",
      "<a href=\"https://www.coursera.org/course/insidetheinternet\" target=\"_blank\">Coursera: Internet History, Technnology and Security</a>\n",
      "<br>  \r\n",
      "<a href=\"https://open.umich.edu/education/si/si502/winter2009/\" target=\"_blank\">SI 502 - Networked Computing</a>\n",
      "<br>   See also <a href=\"http://www.pythonlearn.com\" target=\"_blank\">www.pythonlearn.com</a>,\r\n",
      "<a href=\"http://www.php-intro.com/\" target=\"_blank\">\r\n",
      "www.php-intro.com</a>\r\n",
      "and\r\n",
      "<a href=\"http://www.appenginelearn.com/\">\r\n",
      "www.appenginelearn.com</a>\n",
      "</br></br></br></br></p>\n",
      "<p>\r\n",
      "Books\r\n",
      "<br>   <a href=\"http://www.pythonlearn.com/\" target=\"_blank\">Python For Informatics: Exploring Information</a>  (2010, 2014)\r\n",
      "<br>   <a href=\"/sakai-book\">Sakai: Building an Open Source Community</a> (2011, 2014)\r\n",
      "<br>   <a href=\"http://www.amazon.com/gp/product/1624311393/ref=as_li_ss_tl?ie=UTF8&amp;camp=1789&amp;creative=390957&amp;creativeASIN=1624311393&amp;linkCode=as2&amp;tag=drchu02-20\" target=\"_blank\">Raspberry Pi (21st Century Skills Innovation Library)</a> (2013)\r\n",
      "<br>   <a href=\"http://www.amazon.com/gp/product/059680069X/ref=as_li_ss_tl?ie=UTF8&amp;camp=1789&amp;creative=390957&amp;creativeASIN=059680069X&amp;linkCode=as2&amp;tag=drchu02-20\" target=\"_blank\">Using Google App Engine</a> (O'Reilly 2009)\r\n",
      "<br>   <a href=\"http://www.amazon.com/Performance-Computing-Architectures-Optimization-Benchmarks/dp/156592312X/\" target=\"_blank\">High Performance Computing</a> (<a href=\"http://oreilly.com/catalog/9781565923126/\" target=\"_blank\">O'Reilly 1998</a>,  <a href=\"http://cnx.org/content/col11136/latest/\" target=\"_blank\">Connexions 2010</a>)\r\n",
      "</br></br></br></br></br></p>\r\n",
      "Web/Multimedia sites\r\n",
      "<br>  \r\n",
      "<a href=\"http://www.youtube.com/playlist?list=PLHJB2bhmgB7dFuY7HmrXLj5BmHGKTD-3R\" target=\"_blank\">\r\n",
      "IEEE Computer - Computing Conversations Interviews</a>\r\n",
      "(2011-present)\r\n",
      "<br>  \r\n",
      "<a href=\"https://www.vimeo.com/17207620\" target=\"_blank\">\r\n",
      "Dr. Chuck sings the blues </a> (2008)\r\n",
      "<br>  \r\n",
      "<a href=\"https://www.youtube.com/watch?v=BVKpW02hsrU\" target=\"_blank\">\r\n",
      "Dr. Chuck goes motocross racing</a> (2007)\r\n",
      "<br>  \r\n",
      "<a href=\"https://www.youtube.com/watch?v=sa2WsgCvn7c\" target=\"_blank\">\r\n",
      "A Film About Brent and His ATV\r\n",
      "</a> (2005)\r\n",
      "<br>  \r\n",
      "<a href=\"https://www.vimeo.com/17213019\" target=\"_blank\">\r\n",
      "Audition Tape</a> (2003) for TechTV which was\r\n",
      "rejected :(.\r\n",
      "<br>  \r\n",
      "<a href=\"https://www.youtube.com/watch?v=FJ078sO35M0\" target=\"_blank\">\r\n",
      "Dr. Chuck goes stock car racing</a> (2002)\r\n",
      "<br>  \r\n",
      "<a href=\"http://afs.dr-chuck.com/citoolkit\" target=\"_blank\">\r\n",
      "The Community Information Toolkit</a> - A project to provide public libraries and \r\n",
      "other organizations a start on using Internet in Commmunity Networking. (1999)\r\n",
      "<p>\r\n",
      "Software\r\n",
      "<br>  \r\n",
      "<a href=\"https://www.sakaiproject.org/\" target=\"_blank\">The Sakai Collaboration\r\n",
      "and Learning Environment</a>\n",
      "<br>  \r\n",
      "<a href=\"https://www.tsugi.org/\" target=\"_blank\">Tsugi: A framework for IMS LTI Tools</a>\n",
      "<br>  \r\n",
      "<a href=\"https://developers.imsglobal.org/\" target=\"_blank\">IMS Learning Tools\r\n",
      "Interoperability</a>\n",
      "<br>  \r\n",
      "<a href=\"/obi-sample\" target=\"_blank\">My Reference Implementation of Mozilla Open Badges in PHP</a>\n",
      "<br>  \r\n",
      "</br></br></br></br></br></p></br></br></br></br></br></br></br></td>\n",
      "<td align=\"center\" valign=\"top\" width=\"180\">\n",
      "<div id=\"google_translate_element\"></div><script type=\"text/javascript\">\r\n",
      "function googleTranslateElementInit() {\r\n",
      "  new google.translate.TranslateElement({pageLanguage: 'en', layout: google.translate.TranslateElement.InlineLayout.SIMPLE, gaTrack: true, gaId: 'UA-423997-1'}, 'google_translate_element');\r\n",
      "}\r\n",
      "</script><script src=\"//translate.google.com/translate_a/element.js?cb=googleTranslateElementInit\" type=\"text/javascript\"></script>\n",
      "<br/> <br/>\n",
      "<a class=\"twitter-timeline\" data-widget-id=\"282172185219567616\" href=\"https://twitter.com/drchuck\">Tweets by @drchuck</a>\n",
      "<script>!function(d,s,id){var js,fjs=d.getElementsByTagName(s)[0],p=/^http:/.test(d.location)?'http':'https';if(!d.getElementById(id)){js=d.createElement(s);js.id=id;js.src=p+\"://platform.twitter.com/widgets.js\";fjs.parentNode.insertBefore(js,fjs);}}(document,\"script\",\"twitter-wjs\");</script>\n",
      "</td>\n",
      "</tr>\n",
      "</table>\n",
      "<br>  \r\n",
      "<script type=\"text/javascript\">\r\n",
      "\r\n",
      "  var _gaq = _gaq || [];\r\n",
      "  _gaq.push(['_setAccount', 'UA-423997-1']);\r\n",
      "  _gaq.push(['_setDomainName', 'dr-chuck.com']);\r\n",
      "  _gaq.push(['_trackPageview']);\r\n",
      "\r\n",
      "  (function() {\r\n",
      "    var ga = document.createElement('script'); ga.type = 'text/javascript'; ga.async = true;\r\n",
      "    ga.src = ('https:' == document.location.protocol ? 'https://ssl' : 'http://www') + '.google-analytics.com/ga.js';\r\n",
      "    var s = document.getElementsByTagName('script')[0]; s.parentNode.insertBefore(ga, s);\r\n",
      "  })();\r\n",
      "\r\n",
      "</script>\n",
      "</br></body>\n",
      "</html>\n",
      "\n"
     ]
    }
   ],
   "source": [
    "print soup"
   ]
  },
  {
   "cell_type": "code",
   "execution_count": 14,
   "metadata": {
    "collapsed": false
   },
   "outputs": [
    {
     "name": "stdout",
     "output_type": "stream",
     "text": [
      "http://www.dr-chuck.com/page2.htm\n"
     ]
    }
   ],
   "source": [
    "#Retrieve all of the anchor tags\n",
    "tags=soup('a')\n",
    "for tag in tags:\n",
    "    print(tag.get('href',None))"
   ]
  },
  {
   "cell_type": "code",
   "execution_count": null,
   "metadata": {
    "collapsed": true
   },
   "outputs": [],
   "source": []
  }
 ],
 "metadata": {
  "kernelspec": {
   "display_name": "Python 2",
   "language": "python",
   "name": "python2"
  },
  "language_info": {
   "codemirror_mode": {
    "name": "ipython",
    "version": 2
   },
   "file_extension": ".py",
   "mimetype": "text/x-python",
   "name": "python",
   "nbconvert_exporter": "python",
   "pygments_lexer": "ipython2",
   "version": "2.7.10"
  }
 },
 "nbformat": 4,
 "nbformat_minor": 2
}
