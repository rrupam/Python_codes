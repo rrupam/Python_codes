{
 "cells": [
  {
   "cell_type": "markdown",
   "metadata": {},
   "source": [
    "Reading the HTML code for indiankanoon.org and extracting the links"
   ]
  },
  {
   "cell_type": "code",
   "execution_count": 39,
   "metadata": {
    "collapsed": false
   },
   "outputs": [],
   "source": [
    "#Importing urllib2 (In Python 3, this would be urllib) library for opening URLs\n",
    "\n",
    "import urllib2\n",
    "\n",
    "#Import BeautifulSoup library to manage the variety of html content\n",
    "\n",
    "from bs4 import BeautifulSoup\n"
   ]
  },
  {
   "cell_type": "code",
   "execution_count": 45,
   "metadata": {
    "collapsed": false
   },
   "outputs": [],
   "source": [
    "#Sending a request to obtain the webpage. Normally, the headers argument is not required. \n",
    "#Here, Indiankanoon was blocking scraping requests, so had to use one. \n",
    "#Can get more at https://medium.com/@speedforcerun/python-crawler-http-error-403-forbidden-1623ae9ba0f\n",
    "\n",
    "url = urllib2.Request('https://indiankanoon.org', headers={'User-Agent': 'Mozilla/5.0 (Windows NT 6.1) AppleWebKit/537.36 (KHTML, like Gecko) Chrome/41.0.2228.0 Safari/537.3'})\n",
    "\n",
    "#Read the content of the page\n",
    "html = urllib2.urlopen(url).read()\n",
    "\n",
    "#Parse the page to BeautifulSoup so it can read and interpret the HTML code\n",
    "soup = BeautifulSoup(html, 'html.parser')\n"
   ]
  },
  {
   "cell_type": "code",
   "execution_count": 43,
   "metadata": {
    "collapsed": false
   },
   "outputs": [
    {
     "name": "stdout",
     "output_type": "stream",
     "text": [
      "/advanced.html\n",
      "/search_tips.html\n",
      "/members/\n",
      "https://api.indiankanoon.org\n",
      "/browse/\n",
      "/feeds/\n",
      "/disclaimer.html\n",
      "/court_case_online.html\n",
      "/members/\n"
     ]
    }
   ],
   "source": [
    "# Retrieve all of the anchor tags\n",
    "tags = soup('a')\n",
    "for tag in tags:\n",
    "    print(tag.get('href', None))"
   ]
  },
  {
   "cell_type": "code",
   "execution_count": null,
   "metadata": {
    "collapsed": true
   },
   "outputs": [],
   "source": []
  }
 ],
 "metadata": {
  "kernelspec": {
   "display_name": "Python 2",
   "language": "python",
   "name": "python2"
  },
  "language_info": {
   "codemirror_mode": {
    "name": "ipython",
    "version": 2
   },
   "file_extension": ".py",
   "mimetype": "text/x-python",
   "name": "python",
   "nbconvert_exporter": "python",
   "pygments_lexer": "ipython2",
   "version": "2.7.10"
  }
 },
 "nbformat": 4,
 "nbformat_minor": 2
}
