{
 "cells": [
  {
   "cell_type": "code",
   "execution_count": 1,
   "metadata": {
    "collapsed": false
   },
   "outputs": [
    {
     "name": "stdout",
     "output_type": "stream",
     "text": [
      "15\n",
      "15\n"
     ]
    }
   ],
   "source": [
    "n = [3, 5, 7]\n",
    "\n",
    "def total(numbers):               \n",
    "  result=0\n",
    "  for i in numbers:                       #running thru a list by index\n",
    "    result += i\n",
    "  return result\n",
    "\n",
    "print total(n)\n",
    "\n",
    "\n",
    "def total2(numbers):\n",
    "  result=0\n",
    "  for i in range(len(numbers)):          #running thru a list by the list itself (can't make changes to the list)\n",
    "    result +=numbers[i]\n",
    "  return result\n",
    "\n",
    "print total2(n)"
   ]
  },
  {
   "cell_type": "code",
   "execution_count": null,
   "metadata": {
    "collapsed": true
   },
   "outputs": [],
   "source": []
  }
 ],
 "metadata": {
  "kernelspec": {
   "display_name": "Python 2",
   "language": "python",
   "name": "python2"
  },
  "language_info": {
   "codemirror_mode": {
    "name": "ipython",
    "version": 2
   },
   "file_extension": ".py",
   "mimetype": "text/x-python",
   "name": "python",
   "nbconvert_exporter": "python",
   "pygments_lexer": "ipython2",
   "version": "2.7.10"
  }
 },
 "nbformat": 4,
 "nbformat_minor": 0
}
