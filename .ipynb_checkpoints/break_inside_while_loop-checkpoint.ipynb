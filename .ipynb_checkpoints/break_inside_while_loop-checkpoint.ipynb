{
 "cells": [
  {
   "cell_type": "code",
   "execution_count": 1,
   "metadata": {
    "collapsed": false
   },
   "outputs": [
    {
     "name": "stdout",
     "output_type": "stream",
     "text": [
      "0\n",
      "1\n",
      "2\n",
      "3\n",
      "4\n",
      "5\n",
      "6\n",
      "7\n",
      "8\n",
      "9\n",
      "c 11\n",
      "11\n",
      "c 13\n",
      "13\n",
      "c 15\n",
      "15\n",
      "c 17\n",
      "17\n",
      "c 19\n",
      "19\n",
      "c 21\n"
     ]
    }
   ],
   "source": [
    "count = 0\n",
    "\n",
    "while count <=20:\n",
    "  while True:\n",
    "    print count\n",
    "    count += 1\n",
    "    if count >= 10:\n",
    "      break    #this break comes out of the 'while True' loop. The outer loop 'while count <=20' continues\n",
    "  count += 1\n",
    "  print \"c\",count\n"
   ]
  },
  {
   "cell_type": "code",
   "execution_count": null,
   "metadata": {
    "collapsed": true
   },
   "outputs": [],
   "source": []
  }
 ],
 "metadata": {
  "kernelspec": {
   "display_name": "Python 2",
   "language": "python",
   "name": "python2"
  },
  "language_info": {
   "codemirror_mode": {
    "name": "ipython",
    "version": 2
   },
   "file_extension": ".py",
   "mimetype": "text/x-python",
   "name": "python",
   "nbconvert_exporter": "python",
   "pygments_lexer": "ipython2",
   "version": "2.7.10"
  }
 },
 "nbformat": 4,
 "nbformat_minor": 0
}
