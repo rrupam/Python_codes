{
 "cells": [
  {
   "cell_type": "code",
   "execution_count": 6,
   "metadata": {
    "collapsed": false
   },
   "outputs": [
    {
     "name": "stdout",
     "output_type": "stream",
     "text": [
      "Tyler's score is C\n",
      "Class average score is 83.8666666667\n",
      "Class average letter grade is B\n"
     ]
    }
   ],
   "source": [
    "lloyd = {\n",
    "  \"name\": \"Lloyd\",\n",
    "  \"homework\": [90.0, 97.0, 75.0, 92.0],\n",
    "  \"quizzes\": [88.0, 40.0, 94.0],\n",
    "  \"tests\": [75.0, 90.0]\n",
    "}\n",
    "alice = {\n",
    "  \"name\": \"Alice\",\n",
    "  \"homework\": [100.0, 92.0, 98.0, 100.0],\n",
    "  \"quizzes\": [82.0, 83.0, 91.0],\n",
    "  \"tests\": [89.0, 97.0]\n",
    "}\n",
    "tyler = {\n",
    "  \"name\": \"Tyler\",\n",
    "  \"homework\": [0.0, 87.0, 75.0, 22.0],\n",
    "  \"quizzes\": [0.0, 75.0, 78.0],\n",
    "  \"tests\": [100.0, 100.0]\n",
    "}\n",
    "\n",
    "# Add your function below!\n",
    "def average(numbers):                                   #Function average accepts a list, returns a number\n",
    "  total=sum(numbers)\n",
    "  total=float(total)\n",
    "  return total/len(numbers)\n",
    "  \n",
    "def get_average(student):                              #Function get_average accepts a dictionary (like lloyd), returns a number\n",
    "  homework=average(student[\"homework\"])\n",
    "  quizzes=average(student[\"quizzes\"])\n",
    "  tests=average(student[\"tests\"])\n",
    "  return 0.1*homework + 0.3*quizzes + 0.6*tests\n",
    "\n",
    "def get_letter_grade(score):                           #Function get_letter_grade accepts a number, returns a string.\n",
    "  if score >= 90:\n",
    "    return \"A\"\n",
    "  elif score >= 80:\n",
    "    return\"B\"\n",
    "  elif score >= 70:\n",
    "    return \"C\"\n",
    "  elif score >= 60:\n",
    "    return \"D\"\n",
    "  else:\n",
    "    return \"F\"\n",
    "\n",
    "print \"Tyler's score is %s\" % get_letter_grade(get_average(tyler)) \n",
    "\n",
    "def get_class_average(class_list):                    #Function get_class_average accepts a list(of dictionaries), returns number\n",
    "  results=[]\n",
    "  for student in class_list:\n",
    "    results.append(get_average(student))\n",
    "  return average(results)  \n",
    "\n",
    "print \"Class average score is %s\" % get_class_average([lloyd, alice, tyler])\n",
    "print \"Class average letter grade is %s\" % get_letter_grade(get_class_average([lloyd, alice, tyler]))"
   ]
  },
  {
   "cell_type": "code",
   "execution_count": null,
   "metadata": {
    "collapsed": true
   },
   "outputs": [],
   "source": []
  }
 ],
 "metadata": {
  "kernelspec": {
   "display_name": "Python 2",
   "language": "python",
   "name": "python2"
  },
  "language_info": {
   "codemirror_mode": {
    "name": "ipython",
    "version": 2
   },
   "file_extension": ".py",
   "mimetype": "text/x-python",
   "name": "python",
   "nbconvert_exporter": "python",
   "pygments_lexer": "ipython2",
   "version": "2.7.10"
  }
 },
 "nbformat": 4,
 "nbformat_minor": 0
}
