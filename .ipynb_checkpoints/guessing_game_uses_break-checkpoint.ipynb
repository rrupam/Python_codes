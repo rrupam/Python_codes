{
 "cells": [
  {
   "cell_type": "code",
   "execution_count": 5,
   "metadata": {
    "collapsed": false
   },
   "outputs": [
    {
     "name": "stdout",
     "output_type": "stream",
     "text": [
      "Guess a number between  1 and   10 1\n",
      "Guess a number between  1 and   10 4\n",
      "Guess a number between  1 and   10 7\n",
      "You thought WRONG. The correct number is 10\n"
     ]
    }
   ],
   "source": [
    "from random import randint\n",
    "\n",
    "# Generates a number from 1 through 10 inclusive\n",
    "random_number = randint(1, 10)\n",
    "\n",
    "guesses_left = 3\n",
    "# Start your game!\n",
    "while guesses_left>0:\n",
    "  guess=int(raw_input(\"Guess a number between  1 and   10 \"))\n",
    "  if guess==random_number:\n",
    "    print \"You win! %s was correct\" % (guess)\n",
    "    break\n",
    "  guesses_left -= 1\n",
    "else:\n",
    "  print \"You thought WRONG. The correct number is %s\" % (random_number)"
   ]
  },
  {
   "cell_type": "code",
   "execution_count": null,
   "metadata": {
    "collapsed": true
   },
   "outputs": [],
   "source": []
  }
 ],
 "metadata": {
  "kernelspec": {
   "display_name": "Python 2",
   "language": "python",
   "name": "python2"
  },
  "language_info": {
   "codemirror_mode": {
    "name": "ipython",
    "version": 2
   },
   "file_extension": ".py",
   "mimetype": "text/x-python",
   "name": "python",
   "nbconvert_exporter": "python",
   "pygments_lexer": "ipython2",
   "version": "2.7.10"
  }
 },
 "nbformat": 4,
 "nbformat_minor": 0
}
