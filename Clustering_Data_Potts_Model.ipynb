{
 "cells": [
  {
   "cell_type": "code",
   "execution_count": 8,
   "metadata": {
    "collapsed": false
   },
   "outputs": [],
   "source": [
    "#This program creates a simluation of the clustering algorithm based on the Potts model from statistical physics. \n",
    "#The algorithm is based on the paper \"Blatt, M., Wiseman, S. and Domany, E. Clustering data through an analogy to the Potts model.\n",
    "#Advances in Neural Information Processing Systems, pp.416-422, 1996.\""
   ]
  },
  {
   "cell_type": "code",
   "execution_count": 9,
   "metadata": {
    "collapsed": false
   },
   "outputs": [],
   "source": [
    "#In this block, we assign the initial position and spin configurations of 10 particles. \n",
    "#We create two lists (arrays) each of size 10; the first has the position coordinates of 10 particles. The second has spin data \n",
    "# for the particles. \n",
    "\n",
    "import random\n",
    "import numpy as np\n",
    "q=2\n",
    "N=10\n",
    "\n",
    "Position_2=[[] * 2 for i in range(10)]\n",
    "#print Position_2\n",
    "Spin=[]\n",
    "for counter in range(0,10):\n",
    "    a=random.randint(1,10)\n",
    "    b=random.randint(1,10)\n",
    "    Position_2[counter]=([a,b])  \n",
    "    Spin.append(random.randint(1,3))          #Random value between 1 to 5 is assigned to spin array.\n",
    "#print Position_2, Spin\n"
   ]
  },
  {
   "cell_type": "code",
   "execution_count": 10,
   "metadata": {
    "collapsed": false
   },
   "outputs": [],
   "source": [
    "#Create the Individual neighbourhood value matrix. In this cell, we compute the immediate two neighbours of each element in the Position list.\n",
    "Position_2=[[6, 4], [3, 1], [8, 3], [3, 9], [4, 4], [4, 7], [2, 10], [5, 5], [7, 4], [10, 6]]\n",
    "import numpy\n",
    "Neighbours=numpy.zeros(shape=(10,10))                       #Initializing Neighbours matrix to 0s\n",
    "Dist_Matrix=numpy.zeros(shape=(10,10))\n",
    "for i in range(0,10):                                       #Counter for row.\n",
    "    nbr_1=i                                                 #Just setting initial neighbours to dummmy values. It's imprtant to \n",
    "                                                            #set as i otherwise, it messes up the loops ahead \n",
    "    nbr_2=i\n",
    "    dist_1=1000000                                             #Initial large dummy distances. Important to not keep them as 0.                  \n",
    "    dist_2=1000000\n",
    "   \n",
    "    for j in range(0,10):\n",
    "        temp_dist=abs((Position_2[i][0]-Position_2[j][0])**2+(Position_2[i][1]-Position_2[j][1])**2)\n",
    "        #print \"temp_dis\", temp_dist\n",
    "        Dist_Matrix[i][j]=temp_dist\n",
    "        if temp_dist<=dist_1 and temp_dist>0:               #If the new distance is smaller than both the existing distances\n",
    "            Neighbours[i][nbr_2]=0\n",
    "            Neighbours[i][j]=1\n",
    "            nbr_2=nbr_1\n",
    "            nbr_1=j\n",
    "            dist_2=dist_1\n",
    "            dist_1=temp_dist\n",
    "        if temp_dist>dist_1 and temp_dist<=dist_2:          #If the new distance is in between the two existing distances\n",
    "            Neighbours[i][nbr_2]=0\n",
    "            Neighbours[i][j]=1\n",
    "            nbr_2=j\n",
    "            dist_2=temp_dist\n",
    "#print \"Distance Matrix\", Dist_Matrix\n",
    "#print \"Individual enighbours\", Neighbours            \n",
    "            \n",
    "            \n",
    "            \n",
    "        "
   ]
  },
  {
   "cell_type": "code",
   "execution_count": 11,
   "metadata": {
    "collapsed": false
   },
   "outputs": [
    {
     "name": "stdout",
     "output_type": "stream",
     "text": [
      "0.0\n",
      "Mutual neighbours\n",
      "[[ 0.  0.  0.  0.  0.  0.  0.  1.  1.  0.]\n",
      " [ 0.  0.  0.  0.  0.  0.  0.  0.  0.  0.]\n",
      " [ 0.  0.  0.  0.  0.  0.  0.  0.  1.  0.]\n",
      " [ 0.  0.  0.  0.  0.  1.  1.  0.  0.  0.]\n",
      " [ 0.  0.  0.  0.  0.  0.  0.  1.  0.  0.]\n",
      " [ 0.  0.  0.  1.  0.  0.  0.  0.  0.  0.]\n",
      " [ 0.  0.  0.  1.  0.  0.  0.  0.  0.  0.]\n",
      " [ 1.  0.  0.  0.  1.  0.  0.  0.  0.  0.]\n",
      " [ 1.  0.  1.  0.  0.  0.  0.  0.  0.  0.]\n",
      " [ 0.  0.  0.  0.  0.  0.  0.  0.  0.  0.]]\n"
     ]
    }
   ],
   "source": [
    "#In this block we determine the mutual neighbourhoods of each element.\n",
    "\n",
    "Mut_Nbr=numpy.zeros(shape=(10,10))\n",
    "print Mut_Nbr[0][1]\n",
    "for i in range(0,10):\n",
    "    for j in range(0,10):\n",
    "        #print Neighbours[0][1]*Neighbours[1][0]\n",
    "        if Neighbours[i][j]*Neighbours[j][i]==1:\n",
    "            Mut_Nbr[i][j]=1\n",
    "            Mut_Nbr[j][i]=1\n",
    "print \"Mutual neighbours\"\n",
    "print Mut_Nbr            "
   ]
  },
  {
   "cell_type": "code",
   "execution_count": 12,
   "metadata": {
    "collapsed": false
   },
   "outputs": [
    {
     "name": "stdout",
     "output_type": "stream",
     "text": [
      "Mutual Interaction Matrix\n",
      "[[ 0.          0.          0.          0.          0.          0.          0.\n",
      "   0.06766764  0.18393972  0.        ]\n",
      " [ 0.          0.          0.          0.          0.          0.          0.\n",
      "   0.          0.          0.        ]\n",
      " [ 0.          0.          0.          0.          0.          0.          0.\n",
      "   0.          0.06766764  0.        ]\n",
      " [ 0.          0.          0.          0.          0.          0.00336897\n",
      "   0.06766764  0.          0.          0.        ]\n",
      " [ 0.          0.          0.          0.          0.          0.          0.\n",
      "   0.06766764  0.          0.        ]\n",
      " [ 0.          0.          0.          0.00336897  0.          0.          0.\n",
      "   0.          0.          0.        ]\n",
      " [ 0.          0.          0.          0.06766764  0.          0.          0.\n",
      "   0.          0.          0.        ]\n",
      " [ 0.06766764  0.          0.          0.          0.06766764  0.          0.\n",
      "   0.          0.          0.        ]\n",
      " [ 0.18393972  0.          0.06766764  0.          0.          0.          0.\n",
      "   0.          0.          0.        ]\n",
      " [ 0.          0.          0.          0.          0.          0.          0.\n",
      "   0.          0.          0.        ]]\n"
     ]
    }
   ],
   "source": [
    "#In this cell, we compute the interaction strengths between mutual neighbours\n",
    "\n",
    "\n",
    "#First, we compute \\hat{K} (call this KK in the program), the \"average number of neighbours per site\". \n",
    "#We compute this by the formula given in section 2\n",
    "\n",
    "import math\n",
    "tot_inter=0\n",
    "for i in range(0,10):\n",
    "    for j in range(0,10):\n",
    "        if Mut_Nbr[i][j]==1:\n",
    "            tot_inter+=1\n",
    "KK= 2*tot_inter/10\n",
    "#print KK\n",
    "\n",
    "#print Dist_Matrix\n",
    "#Next, we use the formula for the mutual interactions to compute the mutual interactions matrix J\n",
    "#J=[[0.0 for i in xrange(10)] for j in xrange(10)]\n",
    "J=numpy.zeros(shape=(10,10))\n",
    "#print J\n",
    "for i in range(0,10):\n",
    "    for j in range(0,10):\n",
    "        if Mut_Nbr[i][j]==1:\n",
    "            dd=Dist_Matrix[i][j]\n",
    "            #print \"dd\", dd\n",
    "            J[i][j]=round(1/(math.exp(dd)*KK),8)\n",
    "            J[j][i]=J[i][j]\n",
    "            #print \"check i,j\",i,j, math.exp(J[i][j]/0.001)\n",
    "    #print J[i]   \n",
    "\n",
    "print \"Mutual Interaction Matrix\"\n",
    "print J"
   ]
  },
  {
   "cell_type": "code",
   "execution_count": null,
   "metadata": {
    "collapsed": false
   },
   "outputs": [
    {
     "name": "stdout",
     "output_type": "stream",
     "text": [
      "Clusters at temperature  0.001 are:\n",
      "[[0, 7, 8, 4, 2, -1, -1, -1, -1, -1], [1, -1, -1, -1, -1, -1, -1, -1, -1, -1], [3, -1, -1, -1, -1, -1, -1, -1, -1, -1], [5, -1, -1, -1, -1, -1, -1, -1, -1, -1], [6, -1, -1, -1, -1, -1, -1, -1, -1, -1], [8, -1, -1, -1, -1, -1, -1, -1, -1, -1], [9, -1, -1, -1, -1, -1, -1, -1, -1, -1], [-1, -1, -1, -1, -1, -1, -1, -1, -1, -1], [-1, -1, -1, -1, -1, -1, -1, -1, -1, -1], [-1, -1, -1, -1, -1, -1, -1, -1, -1, -1]]\n",
      "variance of magnetisation at temperature 0.001 is 30000.0\n",
      "Clusters at temperature  10000.001 are:\n",
      "[[0, 7, 8, 4, 2, -1, -1, -1, -1, -1], [1, -1, -1, -1, -1, -1, -1, -1, -1, -1], [3, -1, -1, -1, -1, -1, -1, -1, -1, -1], [5, -1, -1, -1, -1, -1, -1, -1, -1, -1], [6, -1, -1, -1, -1, -1, -1, -1, -1, -1], [8, -1, -1, -1, -1, -1, -1, -1, -1, -1], [9, -1, -1, -1, -1, -1, -1, -1, -1, -1], [-1, -1, -1, -1, -1, -1, -1, -1, -1, -1], [-1, -1, -1, -1, -1, -1, -1, -1, -1, -1], [-1, -1, -1, -1, -1, -1, -1, -1, -1, -1]]\n",
      "variance of magnetisation at temperature 10000.001 is 0.0029999997\n",
      "Clusters at temperature  20000.001 are:\n",
      "[[0, 7, 8, 4, 2, -1, -1, -1, -1, -1], [1, -1, -1, -1, -1, -1, -1, -1, -1, -1], [3, -1, -1, -1, -1, -1, -1, -1, -1, -1], [5, -1, -1, -1, -1, -1, -1, -1, -1, -1], [6, -1, -1, -1, -1, -1, -1, -1, -1, -1], [8, -1, -1, -1, -1, -1, -1, -1, -1, -1], [9, -1, -1, -1, -1, -1, -1, -1, -1, -1], [-1, -1, -1, -1, -1, -1, -1, -1, -1, -1], [-1, -1, -1, -1, -1, -1, -1, -1, -1, -1], [-1, -1, -1, -1, -1, -1, -1, -1, -1, -1]]\n",
      "variance of magnetisation at temperature 20000.001 is 0.001499999925\n",
      "Clusters at temperature  30000.001 are:\n",
      "[[0, 7, 8, 4, 2, -1, -1, -1, -1, -1], [1, -1, -1, -1, -1, -1, -1, -1, -1, -1], [3, -1, -1, -1, -1, -1, -1, -1, -1, -1], [5, -1, -1, -1, -1, -1, -1, -1, -1, -1], [6, -1, -1, -1, -1, -1, -1, -1, -1, -1], [8, -1, -1, -1, -1, -1, -1, -1, -1, -1], [9, -1, -1, -1, -1, -1, -1, -1, -1, -1], [-1, -1, -1, -1, -1, -1, -1, -1, -1, -1], [-1, -1, -1, -1, -1, -1, -1, -1, -1, -1], [-1, -1, -1, -1, -1, -1, -1, -1, -1, -1]]\n",
      "variance of magnetisation at temperature 30000.001 is 0.000999999966667\n",
      "Clusters at temperature  40000.001 are:\n",
      "[[0, 7, 4, -1, -1, -1, -1, -1, -1, -1], [1, -1, -1, -1, -1, -1, -1, -1, -1, -1], [2, -1, -1, -1, -1, -1, -1, -1, -1, -1], [3, -1, -1, -1, -1, -1, -1, -1, -1, -1], [5, -1, -1, -1, -1, -1, -1, -1, -1, -1], [6, -1, -1, -1, -1, -1, -1, -1, -1, -1], [8, -1, -1, -1, -1, -1, -1, -1, -1, -1], [9, -1, -1, -1, -1, -1, -1, -1, -1, -1], [-1, -1, -1, -1, -1, -1, -1, -1, -1, -1], [-1, -1, -1, -1, -1, -1, -1, -1, -1, -1]]\n",
      "variance of magnetisation at temperature 40000.001 is 0.00074999998125\n",
      "Clusters at temperature  50000.001 are:\n",
      "[[0, 7, 4, -1, -1, -1, -1, -1, -1, -1], [1, -1, -1, -1, -1, -1, -1, -1, -1, -1], [2, -1, -1, -1, -1, -1, -1, -1, -1, -1], [3, -1, -1, -1, -1, -1, -1, -1, -1, -1], [5, -1, -1, -1, -1, -1, -1, -1, -1, -1], [6, -1, -1, -1, -1, -1, -1, -1, -1, -1], [8, -1, -1, -1, -1, -1, -1, -1, -1, -1], [9, -1, -1, -1, -1, -1, -1, -1, -1, -1], [-1, -1, -1, -1, -1, -1, -1, -1, -1, -1], [-1, -1, -1, -1, -1, -1, -1, -1, -1, -1]]\n",
      "variance of magnetisation at temperature 50000.001 is 0.000599999988\n",
      "Clusters at temperature  60000.001 are:\n",
      "[[0, 7, 4, -1, -1, -1, -1, -1, -1, -1], [1, -1, -1, -1, -1, -1, -1, -1, -1, -1], [2, -1, -1, -1, -1, -1, -1, -1, -1, -1], [3, -1, -1, -1, -1, -1, -1, -1, -1, -1], [5, -1, -1, -1, -1, -1, -1, -1, -1, -1], [6, -1, -1, -1, -1, -1, -1, -1, -1, -1], [8, -1, -1, -1, -1, -1, -1, -1, -1, -1], [9, -1, -1, -1, -1, -1, -1, -1, -1, -1], [-1, -1, -1, -1, -1, -1, -1, -1, -1, -1], [-1, -1, -1, -1, -1, -1, -1, -1, -1, -1]]\n",
      "variance of magnetisation at temperature 60000.001 is 0.000499999991667\n",
      "Clusters at temperature  70000.001 are:\n",
      "[[0, 7, 8, 4, 2, -1, -1, -1, -1, -1], [1, -1, -1, -1, -1, -1, -1, -1, -1, -1], [3, -1, -1, -1, -1, -1, -1, -1, -1, -1], [5, -1, -1, -1, -1, -1, -1, -1, -1, -1], [6, -1, -1, -1, -1, -1, -1, -1, -1, -1], [8, -1, -1, -1, -1, -1, -1, -1, -1, -1], [9, -1, -1, -1, -1, -1, -1, -1, -1, -1], [-1, -1, -1, -1, -1, -1, -1, -1, -1, -1], [-1, -1, -1, -1, -1, -1, -1, -1, -1, -1], [-1, -1, -1, -1, -1, -1, -1, -1, -1, -1]]\n",
      "variance of magnetisation at temperature 70000.001 is 0.000428571422449\n",
      "Clusters at temperature  80000.001 are:\n",
      "[[0, 7, 4, -1, -1, -1, -1, -1, -1, -1], [1, -1, -1, -1, -1, -1, -1, -1, -1, -1], [2, -1, -1, -1, -1, -1, -1, -1, -1, -1], [3, -1, -1, -1, -1, -1, -1, -1, -1, -1], [5, -1, -1, -1, -1, -1, -1, -1, -1, -1], [6, -1, -1, -1, -1, -1, -1, -1, -1, -1], [8, -1, -1, -1, -1, -1, -1, -1, -1, -1], [9, -1, -1, -1, -1, -1, -1, -1, -1, -1], [-1, -1, -1, -1, -1, -1, -1, -1, -1, -1], [-1, -1, -1, -1, -1, -1, -1, -1, -1, -1]]\n",
      "variance of magnetisation at temperature 80000.001 is 0.000374999995313\n",
      "Clusters at temperature  90000.001 are:\n",
      "[[0, 7, 4, -1, -1, -1, -1, -1, -1, -1], [1, -1, -1, -1, -1, -1, -1, -1, -1, -1], [2, -1, -1, -1, -1, -1, -1, -1, -1, -1], [3, -1, -1, -1, -1, -1, -1, -1, -1, -1], [5, -1, -1, -1, -1, -1, -1, -1, -1, -1], [6, -1, -1, -1, -1, -1, -1, -1, -1, -1], [8, -1, -1, -1, -1, -1, -1, -1, -1, -1], [9, -1, -1, -1, -1, -1, -1, -1, -1, -1], [-1, -1, -1, -1, -1, -1, -1, -1, -1, -1], [-1, -1, -1, -1, -1, -1, -1, -1, -1, -1]]\n",
      "variance of magnetisation at temperature 90000.001 is 0.00033333332963\n"
     ]
    }
   ],
   "source": [
    "#In this cell, we implement the Monte Carlo method on our sample set of points.\n",
    "\n",
    "import matplotlib.pyplot as plt\n",
    "\n",
    "#We create a bond matrix that has states 1 and 0 at the i,j th position if there is a bond between x_i and x_j\n",
    "Bond_Matrix=numpy.empty(shape=(10,10))\n",
    "switer=15   #We will run the Monte Carlo simulation 15 times\n",
    "\n",
    "\n",
    "T=numpy.arange(0.001,100000.001, 10000)   #Temperature range\n",
    "\n",
    "vari=numpy.empty(shape=len(T))\n",
    "chi=numpy.empty(shape=len(T))\n",
    "for temp_count in range(0,len(T)): \n",
    "    m=[[] for hh in range(switer+1)]\n",
    "    m_Sq=[[] for yy in range(switer+1)]\n",
    "    tot_m=0\n",
    "    tot_m_Sq=0\n",
    "    for SW_counter in range(0,switer+1):\n",
    "        J=[[0,0,0,0,0,0,0,0.067,0.184,0],\n",
    "       [0,0,0,0,0,0,0,0,0,0],\n",
    "       [0,0,0,0,0,0,0,0,0.067,0],\n",
    "       [0,0,0,0,0,0.0033,0.067,0,0,0],\n",
    "       [0,0,0,0,0,0,0,0.067,0,0],\n",
    "       [0,0,0,0.0034,0,0,0,0,0,0],\n",
    "       [0,0,0,0.067,0,0,0,0,0,0],\n",
    "       [0.067,0,0,0,0.067,0,0,0,0,0],\n",
    "       [0.1839,0,0.067,0,0,0,0,0,0,0],\n",
    "       [0,0,0,0,0,0,0,0,0,0]]\n",
    "        #print \"Temperature=\", T[temp_count]\n",
    "        for i in range(0,9):\n",
    "            for j in range(i+1,10):\n",
    "                #Calculate the probability of deleting a bond\n",
    "                if Spin[i]==Spin[j] and J[i][j]!=0:\n",
    "                    #rint \"check pd\", math.exp(J[i][j]/0.1)\n",
    "                    Pd=0.000005/math.exp(J[i][j]/T[temp_count])\n",
    "                    #Pd=0.5\n",
    "                else:\n",
    "                    Pd=1\n",
    "                dummy=random.uniform(0,1)\n",
    "                #print \"i=\", i\n",
    "                #print \"j=\", j\n",
    "                #print \"deletion prob\", Pd\n",
    "                #print \"dummy\", dummy\n",
    "                if dummy>Pd:\n",
    "                    Bond_Matrix[i][j]=1\n",
    "                    Bond_Matrix[j][i]=1\n",
    "                else:\n",
    "                    Bond_Matrix[i][j]=0\n",
    "        #print \"Bond Matrix\"\n",
    "        #print Bond_Matrix            \n",
    "        #Now we make clusters based on whether there is a bond between given particles or not\n",
    "        Cluster_Matrix=J=[[-1 for c1 in xrange(10)] for c2 in xrange(10)]\n",
    "        i=0 \n",
    "        clus_num=-1\n",
    "        cluster=[]\n",
    "        cluster_reserve=[]\n",
    "        l=0\n",
    "        clus_size=[[] for h in range(10)]\n",
    "        while (i<=9):\n",
    "            #print \"i=\",i\n",
    "            #cluster=[]\n",
    "            cluster.append(i)\n",
    "            clus_num +=1\n",
    "            Cluster_Matrix[clus_num][0]=i\n",
    "            clus_size[clus_num]=1\n",
    "            k=0\n",
    "            j=-1\n",
    "            while j<k:   #scouting for the k-th level of friends\n",
    "                for count in range(i+1,10):\n",
    "                    #print \"Bond_Matrix element\", Bond_Matrix[cluster[j+1]][count]\n",
    "                    if Bond_Matrix[cluster[j+1]][count]==1:\n",
    "                        if count in cluster:\n",
    "                            #print count, \"is already there\"\n",
    "                            g=1\n",
    "                        else:\n",
    "                            #print \"main element\",i, \"j+1=\", j+1, \"the element we are adding to the cluster\", count, \"k=\", k\n",
    "                            #print \"[i]cluster[j+1]=\",i, cluster[j+1]#, \"bond matrix\", Bond_Matrix[cluster[j+1]][count]\n",
    "                            cluster.append(count)\n",
    "                            #print \"clus_num=\", clus_num, \"k=\", k\n",
    "                            Cluster_Matrix[clus_num][k+1]=count\n",
    "                            #print \"Added to Cluster Matrix\", Cluster_Matrix[clus_num][k+1]\n",
    "                            k+=1 \n",
    "                            clus_size[clus_num]+=1\n",
    "                j+=1 \n",
    "            #print \"Cluster\", clus_num, Cluster_Matrix[clus_num]\n",
    "            i+=1\n",
    "            #print \"Cluster Matrix\", Cluster_Matrix\n",
    "            #print \"CM\", Cluster_Matrix[0][1]\n",
    "\n",
    "            if i in cluster:\n",
    "                i+=1\n",
    "\n",
    "        #print \"Cluster Matrix\", Cluster_Matrix\n",
    "\n",
    "        del clus_size[clus_num+1:]\n",
    "\n",
    "        #print \"Cluster sizes\", clus_size\n",
    "        for a in range(0, clus_num):\n",
    "            b=0\n",
    "            rr=random.randint(1,2)\n",
    "            while Cluster_Matrix[a][b]!=-1:\n",
    "                Spin[Cluster_Matrix[a][b]]=rr\n",
    "                #print \"aa\"\n",
    "                b+=1\n",
    "        #print \"Spin\", Spin        \n",
    "        N_max=max(clus_size)\n",
    "        #print \"N_max\", N_max\n",
    "        # Now we calculate the magentization according to the formula given in Page 420, section 4\n",
    "        N=10\n",
    "        q=2\n",
    "        m[SW_counter]=(q*N_max/10 - 1)/(q-1)\n",
    "        m_Sq[SW_counter]=m[SW_counter]**2\n",
    "        #print \"m\", m, \"m_SQ\", m_Sq\n",
    "        tot_m=tot_m+m[SW_counter]\n",
    "        tot_m_Sq=tot_m_Sq+m_Sq[SW_counter]\n",
    "    print \"Clusters at temperature \",T[temp_count], \"are:\"\n",
    "    print Cluster_Matrix\n",
    "    m_avg_sq=(tot_m/switer)^2\n",
    "    m_sq_avg=tot_m_Sq/switer\n",
    "    #print \"mean_sq\", mean_sq_avg, \"mean_avg_sq\",mean_avg_sq\n",
    "    vari[temp_count]=(N*(m_sq_avg-m_avg_sq )/T[temp_count])\n",
    "    chi[temp_count]=vari[temp_count]*temp_count/N\n",
    "    print \"variance of magnetisation at temperature\",T[temp_count], \"is\",vari[temp_count]\n",
    "#print chi\n",
    "plt.plot(T[1:], vari[1:])\n",
    "plt.show()\n",
    "    \n",
    "    \n",
    "    \n",
    "    \n",
    "    "
   ]
  },
  {
   "cell_type": "code",
   "execution_count": null,
   "metadata": {
    "collapsed": false
   },
   "outputs": [],
   "source": []
  },
  {
   "cell_type": "code",
   "execution_count": null,
   "metadata": {
    "collapsed": true
   },
   "outputs": [],
   "source": []
  },
  {
   "cell_type": "code",
   "execution_count": null,
   "metadata": {
    "collapsed": true
   },
   "outputs": [],
   "source": []
  },
  {
   "cell_type": "code",
   "execution_count": null,
   "metadata": {
    "collapsed": true
   },
   "outputs": [],
   "source": []
  },
  {
   "cell_type": "code",
   "execution_count": null,
   "metadata": {
    "collapsed": true
   },
   "outputs": [],
   "source": []
  },
  {
   "cell_type": "code",
   "execution_count": null,
   "metadata": {
    "collapsed": true
   },
   "outputs": [],
   "source": []
  },
  {
   "cell_type": "code",
   "execution_count": null,
   "metadata": {
    "collapsed": true
   },
   "outputs": [],
   "source": []
  },
  {
   "cell_type": "code",
   "execution_count": null,
   "metadata": {
    "collapsed": true
   },
   "outputs": [],
   "source": []
  },
  {
   "cell_type": "code",
   "execution_count": null,
   "metadata": {
    "collapsed": true
   },
   "outputs": [],
   "source": []
  }
 ],
 "metadata": {
  "kernelspec": {
   "display_name": "Python 2",
   "language": "python",
   "name": "python2"
  },
  "language_info": {
   "codemirror_mode": {
    "name": "ipython",
    "version": 2
   },
   "file_extension": ".py",
   "mimetype": "text/x-python",
   "name": "python",
   "nbconvert_exporter": "python",
   "pygments_lexer": "ipython2",
   "version": "2.7.10"
  }
 },
 "nbformat": 4,
 "nbformat_minor": 0
}
