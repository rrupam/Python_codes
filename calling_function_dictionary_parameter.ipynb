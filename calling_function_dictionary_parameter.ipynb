{
 "cells": [
  {
   "cell_type": "code",
   "execution_count": null,
   "metadata": {
    "collapsed": true
   },
   "outputs": [],
   "source": [
    "shopping_list = [\"banana\", \"orange\", \"apple\"] #this is a list\n",
    "\n",
    "stock = {\n",
    "  \"banana\": 6,\n",
    "  \"apple\": 0,\n",
    "  \"orange\": 32,\n",
    "  \"pear\": 15\n",
    "}                                            #stock is a dictionary. banana, apple etc are 'keys' and 4,2 etc are their values \n",
    "    \n",
    "prices = {\n",
    "  \"banana\": 4,\n",
    "  \"apple\": 2,\n",
    "  \"orange\": 1.5,\n",
    "  \"pear\": 3\n",
    "}\n",
    "\n",
    "# Write your code below! \n",
    "def compute_bill(**food):                   #We define a function compute_bill. **is to distinguish the argument as a dictionary\n",
    "  total=0\n",
    "  for item in food:\n",
    "    if stock[item]>0:\n",
    "      total +=prices[item]\n",
    "      stock[item] -=1\n",
    "  return total\n",
    "\n",
    "data={\"banana\":1, \"apple\":4, \"orange\":1, \"pear\":1}\n",
    "print compute_bill(**data)                #** is to distinguish the argument as a dictionary. Calling the function on this data."
   ]
  }
 ],
 "metadata": {
  "kernelspec": {
   "display_name": "Python 2",
   "language": "python",
   "name": "python2"
  },
  "language_info": {
   "codemirror_mode": {
    "name": "ipython",
    "version": 2
   },
   "file_extension": ".py",
   "mimetype": "text/x-python",
   "name": "python",
   "nbconvert_exporter": "python",
   "pygments_lexer": "ipython2",
   "version": "2.7.10"
  }
 },
 "nbformat": 4,
 "nbformat_minor": 0
}
